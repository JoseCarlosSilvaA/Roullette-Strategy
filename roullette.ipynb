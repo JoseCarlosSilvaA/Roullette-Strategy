{
 "cells": [
  {
   "cell_type": "markdown",
   "id": "6b1c9c7f-d618-4fae-a30c-fc5f51a4f4fe",
   "metadata": {
    "tags": []
   },
   "source": [
    "# Rullette Strategy"
   ]
  },
  {
   "cell_type": "code",
   "execution_count": 3,
   "id": "bfe18e11-9591-4f4f-92fe-1a19566655b3",
   "metadata": {},
   "outputs": [],
   "source": [
    "import random as rd\n",
    "import matplotlib.pyplot as plt\n",
    "import pandas as pd\n",
    "import numpy as np"
   ]
  },
  {
   "cell_type": "markdown",
   "id": "a048b800-b0c2-4640-9271-6be19e33f033",
   "metadata": {},
   "source": [
    "We define the strategy as placing a bet worth 30 units: 10 in one whole dozen, 10 in another and 10 scattered on individual numbers in the remaining dozen. "
   ]
  },
  {
   "cell_type": "code",
   "execution_count": 4,
   "id": "78d68044-9ef7-48ba-9ff0-ea71baf27832",
   "metadata": {},
   "outputs": [],
   "source": [
    "def play_strat():\n",
    "    draw = rd.randint(1, 38)\n",
    "    if draw <= 12:\n",
    "        x = 0 # Row wins 20 but loses the 20 you bet otherwise\n",
    "    elif draw <= 24:\n",
    "        x = 0 # Row wins 20 but loses the 20 you bet otherwise\n",
    "    elif draw <= 34:\n",
    "        x = 6 # Individual bet wins 35 but loses the 29 you bet otherwise\n",
    "    else:\n",
    "        x = -30 # Loses all 30 you bet\n",
    "    return x"
   ]
  },
  {
   "cell_type": "markdown",
   "id": "f256232d-05f9-4c8d-9c39-aa1a322ed443",
   "metadata": {},
   "source": [
    "Play the strategy 200,000 times and see what happens"
   ]
  },
  {
   "cell_type": "code",
   "execution_count": 5,
   "id": "8ba67458-108d-47a4-8a68-1e2439393e3f",
   "metadata": {},
   "outputs": [],
   "source": [
    "winnings = []\n",
    "total_winnings = 0"
   ]
  },
  {
   "cell_type": "code",
   "execution_count": 6,
   "id": "290468e4-c7c7-4986-92c7-bd52bf804e07",
   "metadata": {},
   "outputs": [],
   "source": [
    "x = play_strat()"
   ]
  },
  {
   "cell_type": "code",
   "execution_count": 7,
   "id": "77729061-0c9c-40b5-8fcd-ed093c864856",
   "metadata": {},
   "outputs": [
    {
     "name": "stdout",
     "output_type": "stream",
     "text": [
      "You won  -316482  units.\n"
     ]
    }
   ],
   "source": [
    "for i in range(200000):\n",
    "    x = play_strat()\n",
    "    total_winnings += x\n",
    "    winnings.append(x)\n",
    "\n",
    "print(\"You won \", total_winnings, \" units.\")"
   ]
  },
  {
   "cell_type": "code",
   "execution_count": 8,
   "id": "9ecb4205-6f3c-4736-a520-670dc1f8f966",
   "metadata": {},
   "outputs": [],
   "source": [
    "df = pd.DataFrame(winnings, columns=['Result'])"
   ]
  },
  {
   "cell_type": "code",
   "execution_count": 9,
   "id": "ab3e812c-11dc-42f4-a87b-74d3b5f98c40",
   "metadata": {},
   "outputs": [
    {
     "data": {
      "text/html": [
       "<div>\n",
       "<style scoped>\n",
       "    .dataframe tbody tr th:only-of-type {\n",
       "        vertical-align: middle;\n",
       "    }\n",
       "\n",
       "    .dataframe tbody tr th {\n",
       "        vertical-align: top;\n",
       "    }\n",
       "\n",
       "    .dataframe thead th {\n",
       "        text-align: right;\n",
       "    }\n",
       "</style>\n",
       "<table border=\"1\" class=\"dataframe\">\n",
       "  <thead>\n",
       "    <tr style=\"text-align: right;\">\n",
       "      <th></th>\n",
       "      <th>Result</th>\n",
       "      <th>Result_Factor</th>\n",
       "    </tr>\n",
       "  </thead>\n",
       "  <tbody>\n",
       "    <tr>\n",
       "      <th>0</th>\n",
       "      <td>6</td>\n",
       "      <td>Win</td>\n",
       "    </tr>\n",
       "    <tr>\n",
       "      <th>1</th>\n",
       "      <td>6</td>\n",
       "      <td>Win</td>\n",
       "    </tr>\n",
       "    <tr>\n",
       "      <th>2</th>\n",
       "      <td>0</td>\n",
       "      <td>Tie</td>\n",
       "    </tr>\n",
       "    <tr>\n",
       "      <th>3</th>\n",
       "      <td>0</td>\n",
       "      <td>Tie</td>\n",
       "    </tr>\n",
       "    <tr>\n",
       "      <th>4</th>\n",
       "      <td>0</td>\n",
       "      <td>Tie</td>\n",
       "    </tr>\n",
       "  </tbody>\n",
       "</table>\n",
       "</div>"
      ],
      "text/plain": [
       "   Result Result_Factor\n",
       "0       6           Win\n",
       "1       6           Win\n",
       "2       0           Tie\n",
       "3       0           Tie\n",
       "4       0           Tie"
      ]
     },
     "execution_count": 9,
     "metadata": {},
     "output_type": "execute_result"
    }
   ],
   "source": [
    "df = df.assign(Result_Factor = np.select(\n",
    "    [df['Result'] == 0, df['Result'] == -30, df['Result'] == 6], \n",
    "    ['Tie', 'Lose', 'Win'],\n",
    "    default='Other'  # Provide a default value for cases that don't match any condition\n",
    "))\n",
    "\n",
    "df.head()"
   ]
  },
  {
   "cell_type": "markdown",
   "id": "8c471593-1ebf-4746-88b5-2588bd2486b4",
   "metadata": {},
   "source": [
    "Show the results distribution."
   ]
  },
  {
   "cell_type": "code",
   "execution_count": 10,
   "id": "2ea4c2f5-e228-49f7-99d5-c0548d3b62c6",
   "metadata": {},
   "outputs": [
    {
     "data": {
      "image/png": "[encoded data removed]",
      "text/plain": [
       "<Figure size 640x480 with 1 Axes>"
      ]
     },
     "metadata": {},
     "output_type": "display_data"
    }
   ],
   "source": [
    "# Calculate the percentage of each category\n",
    "value_counts = df['Result_Factor'].value_counts(normalize=True) * 100\n",
    "\n",
    "# Plot a bar chart\n",
    "value_counts.plot(kind='bar')\n",
    "\n",
    "plt.ylabel('Percentage')\n",
    "\n",
    "# Show the plot\n",
    "plt.show()"
   ]
  },
  {
   "cell_type": "markdown",
   "id": "0cae7024-a15e-44ef-aa25-6aba30067385",
   "metadata": {},
   "source": [
    "## Policy 1: \"Till bankrupcy do us part\""
   ]
  },
  {
   "cell_type": "markdown",
   "id": "87d48081-99d5-4863-9bea-0f0da7e465e4",
   "metadata": {},
   "source": [
    "Let's define a policy called till bankrupcy do us part, which tells us to sit down at the rullette table with 60 units and employ the strategy until we are bankrupt.\n",
    "\n",
    "The policy, by its very definition, will bankrupt the player. Even so, some interisting statistics will arise: \n",
    "\n",
    "How long was the player able to play? This will be recorded as \"Rounds\".\n",
    "What was the most amount of money that the player ever had at some point? This will be recorded as \"Max money\"."
   ]
  },
  {
   "cell_type": "markdown",
   "id": "e5760cd6-cf47-4cab-a01c-5174151a2b24",
   "metadata": {},
   "source": [
    "Start by employing the policy once and see the results."
   ]
  },
  {
   "cell_type": "code",
   "execution_count": 16,
   "id": "69a2168b-7a54-423d-8715-84b283cbc589",
   "metadata": {},
   "outputs": [
    {
     "name": "stdout",
     "output_type": "stream",
     "text": [
      "Starting with:  60\n",
      "Round result:  6\n",
      "Money:  66\n",
      "Round result:  0\n",
      "Money:  66\n",
      "Round result:  6\n",
      "Money:  72\n",
      "Round result:  6\n",
      "Money:  78\n",
      "Round result:  0\n",
      "Money:  78\n",
      "Round result:  0\n",
      "Money:  78\n",
      "Round result:  0\n",
      "Money:  78\n",
      "Round result:  0\n",
      "Money:  78\n",
      "Round result:  0\n",
      "Money:  78\n",
      "Round result:  6\n",
      "Money:  84\n",
      "Round result:  0\n",
      "Money:  84\n",
      "Round result:  0\n",
      "Money:  84\n",
      "Round result:  -30\n",
      "Money:  54\n",
      "Round result:  0\n",
      "Money:  54\n",
      "Round result:  0\n",
      "Money:  54\n",
      "Round result:  0\n",
      "Money:  54\n",
      "Round result:  6\n",
      "Money:  60\n",
      "Round result:  0\n",
      "Money:  60\n",
      "Round result:  0\n",
      "Money:  60\n",
      "Round result:  6\n",
      "Money:  66\n",
      "Round result:  0\n",
      "Money:  66\n",
      "Round result:  0\n",
      "Money:  66\n",
      "Round result:  -30\n",
      "Money:  36\n",
      "Round result:  0\n",
      "Money:  36\n",
      "Round result:  0\n",
      "Money:  36\n",
      "Round result:  0\n",
      "Money:  36\n",
      "Round result:  0\n",
      "Money:  36\n",
      "Round result:  6\n",
      "Money:  42\n",
      "Round result:  0\n",
      "Money:  42\n",
      "Round result:  0\n",
      "Money:  42\n",
      "Round result:  0\n",
      "Money:  42\n",
      "Round result:  0\n",
      "Money:  42\n",
      "Round result:  0\n",
      "Money:  42\n",
      "Round result:  0\n",
      "Money:  42\n",
      "Round result:  6\n",
      "Money:  48\n",
      "Round result:  0\n",
      "Money:  48\n",
      "Round result:  0\n",
      "Money:  48\n",
      "Round result:  0\n",
      "Money:  48\n",
      "Round result:  0\n",
      "Money:  48\n",
      "Round result:  0\n",
      "Money:  48\n",
      "Round result:  6\n",
      "Money:  54\n",
      "Round result:  6\n",
      "Money:  60\n",
      "Round result:  0\n",
      "Money:  60\n",
      "Round result:  0\n",
      "Money:  60\n",
      "Round result:  6\n",
      "Money:  66\n",
      "Round result:  6\n",
      "Money:  72\n",
      "Round result:  6\n",
      "Money:  78\n",
      "Round result:  0\n",
      "Money:  78\n",
      "Round result:  0\n",
      "Money:  78\n",
      "Round result:  0\n",
      "Money:  78\n",
      "Round result:  0\n",
      "Money:  78\n",
      "Round result:  0\n",
      "Money:  78\n",
      "Round result:  0\n",
      "Money:  78\n",
      "Round result:  6\n",
      "Money:  84\n",
      "Round result:  0\n",
      "Money:  84\n",
      "Round result:  0\n",
      "Money:  84\n",
      "Round result:  0\n",
      "Money:  84\n",
      "Round result:  6\n",
      "Money:  90\n",
      "Round result:  0\n",
      "Money:  90\n",
      "Round result:  0\n",
      "Money:  90\n",
      "Round result:  0\n",
      "Money:  90\n",
      "Round result:  6\n",
      "Money:  96\n",
      "Round result:  6\n",
      "Money:  102\n",
      "Round result:  -30\n",
      "Money:  72\n",
      "Round result:  0\n",
      "Money:  72\n",
      "Round result:  0\n",
      "Money:  72\n",
      "Round result:  6\n",
      "Money:  78\n",
      "Round result:  -30\n",
      "Money:  48\n",
      "Round result:  6\n",
      "Money:  54\n",
      "Round result:  0\n",
      "Money:  54\n",
      "Round result:  0\n",
      "Money:  54\n",
      "Round result:  6\n",
      "Money:  60\n",
      "Round result:  6\n",
      "Money:  66\n",
      "Round result:  0\n",
      "Money:  66\n",
      "Round result:  0\n",
      "Money:  66\n",
      "Round result:  6\n",
      "Money:  72\n",
      "Round result:  0\n",
      "Money:  72\n",
      "Round result:  0\n",
      "Money:  72\n",
      "Round result:  0\n",
      "Money:  72\n",
      "Round result:  0\n",
      "Money:  72\n",
      "Round result:  0\n",
      "Money:  72\n",
      "Round result:  0\n",
      "Money:  72\n",
      "Round result:  0\n",
      "Money:  72\n",
      "Round result:  0\n",
      "Money:  72\n",
      "Round result:  0\n",
      "Money:  72\n",
      "Round result:  6\n",
      "Money:  78\n",
      "Round result:  6\n",
      "Money:  84\n",
      "Round result:  0\n",
      "Money:  84\n",
      "Round result:  6\n",
      "Money:  90\n",
      "Round result:  0\n",
      "Money:  90\n",
      "Round result:  0\n",
      "Money:  90\n",
      "Round result:  6\n",
      "Money:  96\n",
      "Round result:  0\n",
      "Money:  96\n",
      "Round result:  -30\n",
      "Money:  66\n",
      "Round result:  0\n",
      "Money:  66\n",
      "Round result:  0\n",
      "Money:  66\n",
      "Round result:  0\n",
      "Money:  66\n",
      "Round result:  0\n",
      "Money:  66\n",
      "Round result:  6\n",
      "Money:  72\n",
      "Round result:  6\n",
      "Money:  78\n",
      "Round result:  0\n",
      "Money:  78\n",
      "Round result:  6\n",
      "Money:  84\n",
      "Round result:  0\n",
      "Money:  84\n",
      "Round result:  0\n",
      "Money:  84\n",
      "Round result:  0\n",
      "Money:  84\n",
      "Round result:  6\n",
      "Money:  90\n",
      "Round result:  0\n",
      "Money:  90\n",
      "Round result:  0\n",
      "Money:  90\n",
      "Round result:  0\n",
      "Money:  90\n",
      "Round result:  0\n",
      "Money:  90\n",
      "Round result:  6\n",
      "Money:  96\n",
      "Round result:  0\n",
      "Money:  96\n",
      "Round result:  0\n",
      "Money:  96\n",
      "Round result:  6\n",
      "Money:  102\n",
      "Round result:  6\n",
      "Money:  108\n",
      "Round result:  0\n",
      "Money:  108\n",
      "Round result:  0\n",
      "Money:  108\n",
      "Round result:  0\n",
      "Money:  108\n",
      "Round result:  -30\n",
      "Money:  78\n",
      "Round result:  6\n",
      "Money:  84\n",
      "Round result:  0\n",
      "Money:  84\n",
      "Round result:  0\n",
      "Money:  84\n",
      "Round result:  0\n",
      "Money:  84\n",
      "Round result:  6\n",
      "Money:  90\n",
      "Round result:  0\n",
      "Money:  90\n",
      "Round result:  6\n",
      "Money:  96\n",
      "Round result:  0\n",
      "Money:  96\n",
      "Round result:  0\n",
      "Money:  96\n",
      "Round result:  6\n",
      "Money:  102\n",
      "Round result:  0\n",
      "Money:  102\n",
      "Round result:  0\n",
      "Money:  102\n",
      "Round result:  0\n",
      "Money:  102\n",
      "Round result:  0\n",
      "Money:  102\n",
      "Round result:  6\n",
      "Money:  108\n",
      "Round result:  0\n",
      "Money:  108\n",
      "Round result:  6\n",
      "Money:  114\n",
      "Round result:  6\n",
      "Money:  120\n",
      "Round result:  0\n",
      "Money:  120\n",
      "Round result:  0\n",
      "Money:  120\n",
      "Round result:  0\n",
      "Money:  120\n",
      "Round result:  0\n",
      "Money:  120\n",
      "Round result:  0\n",
      "Money:  120\n",
      "Round result:  0\n",
      "Money:  120\n",
      "Round result:  0\n",
      "Money:  120\n",
      "Round result:  0\n",
      "Money:  120\n",
      "Round result:  0\n",
      "Money:  120\n",
      "Round result:  0\n",
      "Money:  120\n",
      "Round result:  6\n",
      "Money:  126\n",
      "Round result:  -30\n",
      "Money:  96\n",
      "Round result:  0\n",
      "Money:  96\n",
      "Round result:  0\n",
      "Money:  96\n",
      "Round result:  0\n",
      "Money:  96\n",
      "Round result:  0\n",
      "Money:  96\n",
      "Round result:  6\n",
      "Money:  102\n",
      "Round result:  0\n",
      "Money:  102\n",
      "Round result:  0\n",
      "Money:  102\n",
      "Round result:  0\n",
      "Money:  102\n",
      "Round result:  6\n",
      "Money:  108\n",
      "Round result:  0\n",
      "Money:  108\n",
      "Round result:  -30\n",
      "Money:  78\n",
      "Round result:  0\n",
      "Money:  78\n",
      "Round result:  0\n",
      "Money:  78\n",
      "Round result:  -30\n",
      "Money:  48\n",
      "Round result:  -30\n",
      "Money:  18\n",
      "BANKRUPT!!! Lasted  164  rounds.\n"
     ]
    }
   ],
   "source": [
    "# Till bankrupcy do us part\n",
    "rounds = 0\n",
    "money = 60\n",
    "print(\"Starting with: \", money)\n",
    "while money >= 30:\n",
    "    x = play_strat()\n",
    "    print(\"Round result: \", x)\n",
    "    money += x\n",
    "    rounds += 1\n",
    "    print(\"Money: \", money)\n",
    "print(\"BANKRUPT!!! Lasted \", rounds, \" rounds.\")"
   ]
  },
  {
   "cell_type": "markdown",
   "id": "4c6e30cb-c48b-48e5-a03d-57f36c37aa1b",
   "metadata": {},
   "source": [
    "Great run... You played for 164 rounds and at one moment had as many as 120 monetary units before going bankrupt."
   ]
  },
  {
   "cell_type": "code",
   "execution_count": 17,
   "id": "bfdbed16-bc29-4b5d-99ea-f5ae5f10ee59",
   "metadata": {},
   "outputs": [],
   "source": [
    "rounds_array = []\n",
    "max_money_array = []"
   ]
  },
  {
   "cell_type": "markdown",
   "id": "100f2d43-cbca-41c1-9fbb-36aa9cd520f2",
   "metadata": {},
   "source": [
    "Have \"10,000 people\" play the strategy and see how they all do."
   ]
  },
  {
   "cell_type": "code",
   "execution_count": 18,
   "id": "39b9c600-5fa0-4da6-a137-bee401c9320f",
   "metadata": {},
   "outputs": [],
   "source": [
    "for i in range(10000):\n",
    "    rounds = 0\n",
    "    money = 60\n",
    "    max_money = 60\n",
    "    #print(\"Starting with: \", money)\n",
    "    while money >= 30:\n",
    "        x = play_strat()\n",
    "        #print(\"Round result: \", x)\n",
    "        money += x\n",
    "        rounds += 1\n",
    "        if money > max_money:\n",
    "            max_money = money\n",
    "        #print(\"Money: \", money)\n",
    "    #print(\"BANKRUPT!!! Lasted \", rounds, \" rounds.\")\n",
    "    rounds_array.append(rounds)\n",
    "    max_money_array.append(max_money)"
   ]
  },
  {
   "cell_type": "code",
   "execution_count": 19,
   "id": "0e200bb7-04c3-44d8-834f-90e66deea33e",
   "metadata": {},
   "outputs": [
    {
     "data": {
      "text/html": [
       "<div>\n",
       "<style scoped>\n",
       "    .dataframe tbody tr th:only-of-type {\n",
       "        vertical-align: middle;\n",
       "    }\n",
       "\n",
       "    .dataframe tbody tr th {\n",
       "        vertical-align: top;\n",
       "    }\n",
       "\n",
       "    .dataframe thead th {\n",
       "        text-align: right;\n",
       "    }\n",
       "</style>\n",
       "<table border=\"1\" class=\"dataframe\">\n",
       "  <thead>\n",
       "    <tr style=\"text-align: right;\">\n",
       "      <th></th>\n",
       "      <th>Rounds</th>\n",
       "      <th>Max_Money</th>\n",
       "    </tr>\n",
       "  </thead>\n",
       "  <tbody>\n",
       "    <tr>\n",
       "      <th>0</th>\n",
       "      <td>2</td>\n",
       "      <td>60</td>\n",
       "    </tr>\n",
       "    <tr>\n",
       "      <th>1</th>\n",
       "      <td>42</td>\n",
       "      <td>120</td>\n",
       "    </tr>\n",
       "    <tr>\n",
       "      <th>2</th>\n",
       "      <td>27</td>\n",
       "      <td>102</td>\n",
       "    </tr>\n",
       "    <tr>\n",
       "      <th>3</th>\n",
       "      <td>3</td>\n",
       "      <td>60</td>\n",
       "    </tr>\n",
       "    <tr>\n",
       "      <th>4</th>\n",
       "      <td>5</td>\n",
       "      <td>78</td>\n",
       "    </tr>\n",
       "  </tbody>\n",
       "</table>\n",
       "</div>"
      ],
      "text/plain": [
       "   Rounds  Max_Money\n",
       "0       2         60\n",
       "1      42        120\n",
       "2      27        102\n",
       "3       3         60\n",
       "4       5         78"
      ]
     },
     "execution_count": 19,
     "metadata": {},
     "output_type": "execute_result"
    }
   ],
   "source": [
    "df = pd.DataFrame(rounds_array, columns=['Rounds'])\n",
    "df['Max_Money'] = max_money_array\n",
    "df.head()"
   ]
  },
  {
   "cell_type": "code",
   "execution_count": 20,
   "id": "59d71a40-abfa-4fff-88d2-4930d5d81d04",
   "metadata": {},
   "outputs": [
    {
     "data": {
      "image/png": "[encoded data removed]",
      "text/plain": [
       "<Figure size 640x480 with 1 Axes>"
      ]
     },
     "metadata": {},
     "output_type": "display_data"
    }
   ],
   "source": [
    "# Creating a histogram of the 'Rounds' column\n",
    "plt.hist(df['Rounds'], bins=100, edgecolor='k')  # Adjust bins as needed\n",
    "\n",
    "plt.title('Histogram of Number of Rounds: Till bankrupcy do us part')\n",
    "plt.xlabel('Value')\n",
    "plt.ylabel('Frequency')\n",
    "\n",
    "# Display the histogram\n",
    "plt.show()"
   ]
  },
  {
   "cell_type": "code",
   "execution_count": 21,
   "id": "c7dfce89-7709-4a64-bc6f-de4531916808",
   "metadata": {},
   "outputs": [
    {
     "data": {
      "image/png": "[encoded data removed]",
      "text/plain": [
       "<Figure size 640x480 with 1 Axes>"
      ]
     },
     "metadata": {},
     "output_type": "display_data"
    }
   ],
   "source": [
    "# Creating a histogram of the 'Max money' column\n",
    "plt.hist(df['Max_Money'], bins=40, edgecolor='k')  # Adjust bins as needed\n",
    "\n",
    "plt.title('Histogram of max money: Till bankrupcy do us part')\n",
    "plt.xlabel('Value')\n",
    "plt.ylabel('Frequency')\n",
    "\n",
    "# Display the histogram\n",
    "plt.show()"
   ]
  },
  {
   "cell_type": "markdown",
   "id": "b463b773-1934-4803-b5ae-5e0d4c06cac9",
   "metadata": {},
   "source": [
    "## Policy 2: \"Double or nothing\""
   ]
  },
  {
   "cell_type": "markdown",
   "id": "effc1057-1db7-47d6-bd63-76122097b63a",
   "metadata": {},
   "source": [
    "Let's define a policy called Double or nothing, where the player will sit down at the table with a certain amount of initial money and stop once they've either doubled their initial amount or have gone bankrupt.\n",
    "\n",
    "This time, we're mainly interested in whether the player doubles their money or loses it all. We'll also see how many rounds they played and the maximum amount of money they held."
   ]
  },
  {
   "cell_type": "markdown",
   "id": "1f02332b-c5a9-4115-8c47-bd0e6182fbf7",
   "metadata": {},
   "source": [
    "First play the policy once and observe the results."
   ]
  },
  {
   "cell_type": "code",
   "execution_count": 22,
   "id": "0c0fbf6d-fb44-4c91-9661-27bd98d98603",
   "metadata": {},
   "outputs": [
    {
     "name": "stdout",
     "output_type": "stream",
     "text": [
      "Starting with:  60\n",
      "Round result:  0\n",
      "Money:  60\n",
      "Round result:  6\n",
      "Money:  66\n",
      "Round result:  6\n",
      "Money:  72\n",
      "Round result:  0\n",
      "Money:  72\n",
      "Round result:  0\n",
      "Money:  72\n",
      "Round result:  0\n",
      "Money:  72\n",
      "Round result:  -30\n",
      "Money:  42\n",
      "Round result:  0\n",
      "Money:  42\n",
      "Round result:  0\n",
      "Money:  42\n",
      "Round result:  0\n",
      "Money:  42\n",
      "Round result:  0\n",
      "Money:  42\n",
      "Round result:  0\n",
      "Money:  42\n",
      "Round result:  0\n",
      "Money:  42\n",
      "Round result:  0\n",
      "Money:  42\n",
      "Round result:  0\n",
      "Money:  42\n",
      "Round result:  6\n",
      "Money:  48\n",
      "Round result:  6\n",
      "Money:  54\n",
      "Round result:  0\n",
      "Money:  54\n",
      "Round result:  6\n",
      "Money:  60\n",
      "Round result:  0\n",
      "Money:  60\n",
      "Round result:  0\n",
      "Money:  60\n",
      "Round result:  0\n",
      "Money:  60\n",
      "Round result:  0\n",
      "Money:  60\n",
      "Round result:  0\n",
      "Money:  60\n",
      "Round result:  6\n",
      "Money:  66\n",
      "Round result:  -30\n",
      "Money:  36\n",
      "Round result:  0\n",
      "Money:  36\n",
      "Round result:  0\n",
      "Money:  36\n",
      "Round result:  0\n",
      "Money:  36\n",
      "Round result:  0\n",
      "Money:  36\n",
      "Round result:  0\n",
      "Money:  36\n",
      "Round result:  -30\n",
      "Money:  6\n",
      "BANKRUPT!!! Lasted  32  rounds.\n"
     ]
    }
   ],
   "source": [
    "# Double or nothing\n",
    "rounds = 0\n",
    "original_money = 60\n",
    "money = original_money\n",
    "print(\"Starting with: \", original_money)\n",
    "while 2 * original_money > money >= 30:\n",
    "    x = play_strat()\n",
    "    print(\"Round result: \", x)\n",
    "    money += x\n",
    "    rounds += 1\n",
    "    print(\"Money: \", money)\n",
    "\n",
    "if money < 30:\n",
    "    print(\"BANKRUPT!!! Lasted \", rounds, \" rounds.\")\n",
    "else:\n",
    "    print(\"DOUBLED!!! Took \", rounds, \" rounds.\")"
   ]
  },
  {
   "cell_type": "markdown",
   "id": "13da307d-5d26-4f9e-8be4-92bad2ad046f",
   "metadata": {},
   "source": [
    "Bad luck!!! You lost it all before you had the chance to double your initial monetary units."
   ]
  },
  {
   "cell_type": "markdown",
   "id": "d1f3ddc5-b4fd-4f6a-a3d1-fb0e9402eca4",
   "metadata": {},
   "source": [
    "Now we'll have \"10,000 people\" play the strat and see how they do"
   ]
  },
  {
   "cell_type": "code",
   "execution_count": 36,
   "id": "5fff9549-8614-43e2-bc72-82b90ec2b7b5",
   "metadata": {},
   "outputs": [],
   "source": [
    "rounds_array = []\n",
    "max_money_array = []\n",
    "result_array = []"
   ]
  },
  {
   "cell_type": "code",
   "execution_count": 37,
   "id": "5b1289ee-7e75-4ea7-a16d-bd7b72361ed5",
   "metadata": {},
   "outputs": [],
   "source": [
    "for i in range(10000):\n",
    "    rounds = 0\n",
    "    original_money = 60\n",
    "    money = original_money\n",
    "    max_money = money\n",
    "    #print(\"Starting with: \", money)\n",
    "    while money * 2 >= money >= 30:\n",
    "        x = play_strat()\n",
    "        # print(\"Round result: \", x)\n",
    "        money += x\n",
    "        rounds += 1\n",
    "        if money >= money * 2 : \n",
    "            result = 'doubled initial money'\n",
    "        else:\n",
    "            result = 'bankrupt'\n",
    "        if money > max_money:\n",
    "            max_money = money\n",
    "        # print(\"Money: \", money)\n",
    "    rounds_array.append(rounds)\n",
    "    max_money_array.append(max_money)\n",
    "    result_array.append(result)"
   ]
  },
  {
   "cell_type": "code",
   "execution_count": 38,
   "id": "9105aa25-93ba-4729-a697-b7120ff844b7",
   "metadata": {},
   "outputs": [
    {
     "data": {
      "text/html": [
       "<div>\n",
       "<style scoped>\n",
       "    .dataframe tbody tr th:only-of-type {\n",
       "        vertical-align: middle;\n",
       "    }\n",
       "\n",
       "    .dataframe tbody tr th {\n",
       "        vertical-align: top;\n",
       "    }\n",
       "\n",
       "    .dataframe thead th {\n",
       "        text-align: right;\n",
       "    }\n",
       "</style>\n",
       "<table border=\"1\" class=\"dataframe\">\n",
       "  <thead>\n",
       "    <tr style=\"text-align: right;\">\n",
       "      <th></th>\n",
       "      <th>Rounds</th>\n",
       "      <th>Max_Money</th>\n",
       "      <th>Result</th>\n",
       "    </tr>\n",
       "  </thead>\n",
       "  <tbody>\n",
       "    <tr>\n",
       "      <th>0</th>\n",
       "      <td>42</td>\n",
       "      <td>78</td>\n",
       "      <td>bankrupt</td>\n",
       "    </tr>\n",
       "    <tr>\n",
       "      <th>1</th>\n",
       "      <td>15</td>\n",
       "      <td>66</td>\n",
       "      <td>bankrupt</td>\n",
       "    </tr>\n",
       "    <tr>\n",
       "      <th>2</th>\n",
       "      <td>142</td>\n",
       "      <td>144</td>\n",
       "      <td>bankrupt</td>\n",
       "    </tr>\n",
       "    <tr>\n",
       "      <th>3</th>\n",
       "      <td>21</td>\n",
       "      <td>78</td>\n",
       "      <td>bankrupt</td>\n",
       "    </tr>\n",
       "    <tr>\n",
       "      <th>4</th>\n",
       "      <td>25</td>\n",
       "      <td>72</td>\n",
       "      <td>bankrupt</td>\n",
       "    </tr>\n",
       "  </tbody>\n",
       "</table>\n",
       "</div>"
      ],
      "text/plain": [
       "   Rounds  Max_Money    Result\n",
       "0      42         78  bankrupt\n",
       "1      15         66  bankrupt\n",
       "2     142        144  bankrupt\n",
       "3      21         78  bankrupt\n",
       "4      25         72  bankrupt"
      ]
     },
     "execution_count": 38,
     "metadata": {},
     "output_type": "execute_result"
    }
   ],
   "source": [
    "df = pd.DataFrame(rounds_array, columns=['Rounds'])\n",
    "df['Max_Money'] = max_money_array\n",
    "df['Result'] = result_array\n",
    "df.head()"
   ]
  },
  {
   "cell_type": "code",
   "execution_count": 39,
   "id": "b35f514e-96fc-4c26-b9c3-a2092d20ac39",
   "metadata": {},
   "outputs": [
    {
     "data": {
      "image/png": "[encoded data removed]",
      "text/plain": [
       "<Figure size 640x480 with 1 Axes>"
      ]
     },
     "metadata": {},
     "output_type": "display_data"
    }
   ],
   "source": [
    "# Creating a histogram of the 'Rounds' column\n",
    "plt.hist(df['Result'], edgecolor='k')  # Adjust bins as needed\n",
    "\n",
    "plt.title('Histogram of Results: Double or nothing')\n",
    "plt.xlabel('Value')\n",
    "plt.ylabel('Frequency')\n",
    "\n",
    "# Display the histogram\n",
    "plt.show()"
   ]
  },
  {
   "cell_type": "code",
   "execution_count": 40,
   "id": "2ffd28a9-d46c-4195-b834-b86942fbc820",
   "metadata": {},
   "outputs": [
    {
     "data": {
      "image/png": "[encoded data removed]",
      "text/plain": [
       "<Figure size 640x480 with 1 Axes>"
      ]
     },
     "metadata": {},
     "output_type": "display_data"
    }
   ],
   "source": [
    "# Calculate weights for each data point to represent its percentage of the total\n",
    "weights = np.ones_like(df['Result']) / len(df['Result']) * 100\n",
    "\n",
    "# Creating a histogram of the 'Result' column with percentages\n",
    "plt.hist(df['Result'], weights=weights, edgecolor='k')  # Adjust bins as needed\n",
    "\n",
    "plt.title('Histogram of Results: Double or nothing')\n",
    "plt.xlabel('Value')\n",
    "plt.ylabel('Percentage')\n",
    "\n",
    "# Display the histogram\n",
    "plt.show()"
   ]
  },
  {
   "cell_type": "code",
   "execution_count": 41,
   "id": "92e40bf4-126c-4bf8-8f60-06fd4dc81c77",
   "metadata": {},
   "outputs": [
    {
     "data": {
      "image/png": "[encoded data removed]",
      "text/plain": [
       "<Figure size 640x480 with 1 Axes>"
      ]
     },
     "metadata": {},
     "output_type": "display_data"
    }
   ],
   "source": [
    "# Calculate the 99th percentile value\n",
    "percentile_95 = df['Rounds'].quantile(0.95)\n",
    "\n",
    "# Filter the DataFrame to remove values above the 99th percentile\n",
    "filtered_df = df[df['Rounds'] <= percentile_95]\n",
    "\n",
    "# Now plot the histogram of the filtered data\n",
    "plt.hist(filtered_df['Rounds'], bins=20, edgecolor='k')\n",
    "\n",
    "plt.title('Histogram of Number of Rounds: Double or nothing (Top 5% Removed)')\n",
    "plt.xlabel('Value')\n",
    "plt.ylabel('Frequency')\n",
    "\n",
    "# Display the histogram\n",
    "plt.show()"
   ]
  },
  {
   "cell_type": "code",
   "execution_count": 42,
   "id": "d35e39d2-ed65-4624-98ea-93dfd011b106",
   "metadata": {},
   "outputs": [
    {
     "data": {
      "image/png": "[encoded data removed]",
      "text/plain": [
       "<Figure size 640x480 with 1 Axes>"
      ]
     },
     "metadata": {},
     "output_type": "display_data"
    }
   ],
   "source": [
    "# Creating a histogram of the 'Max money' column\n",
    "plt.hist(df['Max_Money'], bins=20, edgecolor='k')  # Adjust bins as needed\n",
    "\n",
    "plt.title('Histogram of max money: Double or nothing')\n",
    "plt.xlabel('Value')\n",
    "plt.ylabel('Frequency')\n",
    "\n",
    "# Display the histogram\n",
    "plt.show()"
   ]
  }
 ],
 "metadata": {
  "kernelspec": {
   "display_name": "Python 3 (ipykernel)",
   "language": "python",
   "name": "python3"
  },
  "language_info": {
   "codemirror_mode": {
    "name": "ipython",
    "version": 3
   },
   "file_extension": ".py",
   "mimetype": "text/x-python",
   "name": "python",
   "nbconvert_exporter": "python",
   "pygments_lexer": "ipython3",
   "version": "3.8.18"
  }
 },
 "nbformat": 4,
 "nbformat_minor": 5
}
